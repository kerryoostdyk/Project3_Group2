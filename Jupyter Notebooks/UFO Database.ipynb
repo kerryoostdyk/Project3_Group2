{
 "cells": [
  {
   "cell_type": "code",
   "execution_count": null,
   "id": "1cc7cd9a-4291-4216-8a8e-3a945a7f01d4",
   "metadata": {},
   "outputs": [],
   "source": []
  },
  {
   "cell_type": "code",
   "execution_count": 11,
   "id": "3cbc7f57-93a0-44be-a709-885acbe2fc60",
   "metadata": {},
   "outputs": [],
   "source": [
    "import pandas as pd\n",
    "import numpy as no\n",
    "import datetime\n",
    "from sqlalchemy import create_engine, inspect, text\n"
   ]
  },
  {
   "cell_type": "code",
   "execution_count": 12,
   "id": "f5194ec6-aad5-4ed4-92b2-06232bb6fbff",
   "metadata": {},
   "outputs": [],
   "source": [
    "df = pd.read_csv(\"ufo-sightings-transformed.csv\")"
   ]
  },
  {
   "cell_type": "code",
   "execution_count": 13,
   "id": "17b28717-eeb9-40f8-a61f-f0a603f13eec",
   "metadata": {},
   "outputs": [
    {
     "name": "stdout",
     "output_type": "stream",
     "text": [
      "<class 'pandas.core.frame.DataFrame'>\n",
      "RangeIndex: 80328 entries, 0 to 80327\n",
      "Data columns (total 17 columns):\n",
      " #   Column                       Non-Null Count  Dtype  \n",
      "---  ------                       --------------  -----  \n",
      " 0   Unnamed: 0                   80328 non-null  int64  \n",
      " 1   Date_time                    80328 non-null  object \n",
      " 2   date_documented              80328 non-null  object \n",
      " 3   Year                         80328 non-null  int64  \n",
      " 4   Month                        80328 non-null  int64  \n",
      " 5   Hour                         80328 non-null  int64  \n",
      " 6   Season                       80328 non-null  object \n",
      " 7   Country_Code                 80069 non-null  object \n",
      " 8   Country                      80069 non-null  object \n",
      " 9   Region                       79762 non-null  object \n",
      " 10  Locale                       79871 non-null  object \n",
      " 11  latitude                     80328 non-null  float64\n",
      " 12  longitude                    80328 non-null  float64\n",
      " 13  UFO_shape                    78398 non-null  object \n",
      " 14  length_of_encounter_seconds  80328 non-null  float64\n",
      " 15  Encounter_Duration           80328 non-null  object \n",
      " 16  Description                  80313 non-null  object \n",
      "dtypes: float64(3), int64(4), object(10)\n",
      "memory usage: 10.4+ MB\n"
     ]
    }
   ],
   "source": [
    "df.info()"
   ]
  },
  {
   "cell_type": "code",
   "execution_count": 14,
   "id": "549b025c-abf1-4e7e-84e8-d0566fc3dadd",
   "metadata": {},
   "outputs": [],
   "source": [
    "##Need to update the Date_time column datatype \n",
    "## Could drop the description column \n",
    "## Only one column for encounter duration is really needed, would seconds or minutes be better?\n",
    "## Do we need date the encounter was documented? Or just date that encounter occured? "
   ]
  },
  {
   "cell_type": "code",
   "execution_count": 15,
   "id": "eda4e72c-37ca-44e7-8193-08826854b31c",
   "metadata": {},
   "outputs": [],
   "source": [
    "df['Date_time'] = pd.to_datetime(df['Date_time'])"
   ]
  },
  {
   "cell_type": "code",
   "execution_count": 16,
   "id": "df24514b-01b6-4412-88b2-ac97c17cc224",
   "metadata": {},
   "outputs": [],
   "source": [
    "ufo_df = df.rename(columns = {'latitude' : 'Latitude', 'longitude' : 'Longitude'})"
   ]
  },
  {
   "cell_type": "code",
   "execution_count": 17,
   "id": "72f11173-1b5e-4b51-be7c-3200a7d7f9ec",
   "metadata": {},
   "outputs": [],
   "source": [
    "##Making the duration of encounter (seconds) column a minutes column instead \n",
    "\n",
    "ufo_df['Estimated_Encounter_Duration_Minutes'] = (ufo_df['length_of_encounter_seconds'] / 60).round(2)"
   ]
  },
  {
   "cell_type": "code",
   "execution_count": 18,
   "id": "9ccfb493-48e5-4fbf-92db-5f25ba8ae3d1",
   "metadata": {},
   "outputs": [],
   "source": [
    "ufo_df = ufo_df.drop(['date_documented', 'Country_Code', 'length_of_encounter_seconds', 'Encounter_Duration', 'Description'], axis=1)"
   ]
  },
  {
   "cell_type": "code",
   "execution_count": 19,
   "id": "4a8ac2b3-7b7f-4676-a170-cb2c46aeb72f",
   "metadata": {},
   "outputs": [
    {
     "data": {
      "text/html": [
       "<div>\n",
       "<style scoped>\n",
       "    .dataframe tbody tr th:only-of-type {\n",
       "        vertical-align: middle;\n",
       "    }\n",
       "\n",
       "    .dataframe tbody tr th {\n",
       "        vertical-align: top;\n",
       "    }\n",
       "\n",
       "    .dataframe thead th {\n",
       "        text-align: right;\n",
       "    }\n",
       "</style>\n",
       "<table border=\"1\" class=\"dataframe\">\n",
       "  <thead>\n",
       "    <tr style=\"text-align: right;\">\n",
       "      <th></th>\n",
       "      <th>Date_time</th>\n",
       "      <th>Year</th>\n",
       "      <th>Month</th>\n",
       "      <th>Hour</th>\n",
       "      <th>Season</th>\n",
       "      <th>Country</th>\n",
       "      <th>Region</th>\n",
       "      <th>Locale</th>\n",
       "      <th>Latitude</th>\n",
       "      <th>Longitude</th>\n",
       "      <th>UFO_shape</th>\n",
       "      <th>Estimated_Encounter_Duration_Minutes</th>\n",
       "    </tr>\n",
       "    <tr>\n",
       "      <th>ID</th>\n",
       "      <th></th>\n",
       "      <th></th>\n",
       "      <th></th>\n",
       "      <th></th>\n",
       "      <th></th>\n",
       "      <th></th>\n",
       "      <th></th>\n",
       "      <th></th>\n",
       "      <th></th>\n",
       "      <th></th>\n",
       "      <th></th>\n",
       "      <th></th>\n",
       "    </tr>\n",
       "  </thead>\n",
       "  <tbody>\n",
       "    <tr>\n",
       "      <th>0</th>\n",
       "      <td>1949-10-10 20:30:00</td>\n",
       "      <td>1949</td>\n",
       "      <td>10</td>\n",
       "      <td>20</td>\n",
       "      <td>Autumn</td>\n",
       "      <td>United States</td>\n",
       "      <td>Texas</td>\n",
       "      <td>San Marcos</td>\n",
       "      <td>29.883056</td>\n",
       "      <td>-97.941111</td>\n",
       "      <td>Cylinder</td>\n",
       "      <td>45.00</td>\n",
       "    </tr>\n",
       "    <tr>\n",
       "      <th>1</th>\n",
       "      <td>1949-10-10 21:00:00</td>\n",
       "      <td>1949</td>\n",
       "      <td>10</td>\n",
       "      <td>21</td>\n",
       "      <td>Autumn</td>\n",
       "      <td>United States</td>\n",
       "      <td>Texas</td>\n",
       "      <td>Bexar County</td>\n",
       "      <td>29.384210</td>\n",
       "      <td>-98.581082</td>\n",
       "      <td>Light</td>\n",
       "      <td>120.00</td>\n",
       "    </tr>\n",
       "    <tr>\n",
       "      <th>2</th>\n",
       "      <td>1955-10-10 17:00:00</td>\n",
       "      <td>1955</td>\n",
       "      <td>10</td>\n",
       "      <td>17</td>\n",
       "      <td>Autumn</td>\n",
       "      <td>United Kingdom</td>\n",
       "      <td>England</td>\n",
       "      <td>Chester</td>\n",
       "      <td>53.200000</td>\n",
       "      <td>-2.916667</td>\n",
       "      <td>Circle</td>\n",
       "      <td>0.33</td>\n",
       "    </tr>\n",
       "    <tr>\n",
       "      <th>3</th>\n",
       "      <td>1956-10-10 21:00:00</td>\n",
       "      <td>1956</td>\n",
       "      <td>10</td>\n",
       "      <td>21</td>\n",
       "      <td>Autumn</td>\n",
       "      <td>United States</td>\n",
       "      <td>Texas</td>\n",
       "      <td>Edna</td>\n",
       "      <td>28.978333</td>\n",
       "      <td>-96.645833</td>\n",
       "      <td>Circle</td>\n",
       "      <td>0.33</td>\n",
       "    </tr>\n",
       "    <tr>\n",
       "      <th>4</th>\n",
       "      <td>1960-10-10 20:00:00</td>\n",
       "      <td>1960</td>\n",
       "      <td>10</td>\n",
       "      <td>20</td>\n",
       "      <td>Autumn</td>\n",
       "      <td>United States</td>\n",
       "      <td>Hawaii</td>\n",
       "      <td>Kaneohe</td>\n",
       "      <td>21.418056</td>\n",
       "      <td>-157.803611</td>\n",
       "      <td>Light</td>\n",
       "      <td>15.00</td>\n",
       "    </tr>\n",
       "  </tbody>\n",
       "</table>\n",
       "</div>"
      ],
      "text/plain": [
       "             Date_time  Year  Month  Hour  Season         Country   Region  \\\n",
       "ID                                                                           \n",
       "0  1949-10-10 20:30:00  1949     10    20  Autumn   United States    Texas   \n",
       "1  1949-10-10 21:00:00  1949     10    21  Autumn   United States    Texas   \n",
       "2  1955-10-10 17:00:00  1955     10    17  Autumn  United Kingdom  England   \n",
       "3  1956-10-10 21:00:00  1956     10    21  Autumn   United States    Texas   \n",
       "4  1960-10-10 20:00:00  1960     10    20  Autumn   United States   Hawaii   \n",
       "\n",
       "          Locale   Latitude   Longitude UFO_shape  \\\n",
       "ID                                                  \n",
       "0     San Marcos  29.883056  -97.941111  Cylinder   \n",
       "1   Bexar County  29.384210  -98.581082     Light   \n",
       "2        Chester  53.200000   -2.916667    Circle   \n",
       "3           Edna  28.978333  -96.645833    Circle   \n",
       "4        Kaneohe  21.418056 -157.803611     Light   \n",
       "\n",
       "    Estimated_Encounter_Duration_Minutes  \n",
       "ID                                        \n",
       "0                                  45.00  \n",
       "1                                 120.00  \n",
       "2                                   0.33  \n",
       "3                                   0.33  \n",
       "4                                  15.00  "
      ]
     },
     "execution_count": 19,
     "metadata": {},
     "output_type": "execute_result"
    }
   ],
   "source": [
    "ufo_df = ufo_df.rename(columns={'Unnamed: 0' : 'ID'})\n",
    "\n",
    "ufo_df = ufo_df.set_index('ID')\n",
    "\n",
    "\n",
    "ufo_df.head()"
   ]
  },
  {
   "cell_type": "code",
   "execution_count": 20,
   "id": "6dead01d-5ec1-420b-b6c0-fec9b93648fd",
   "metadata": {},
   "outputs": [
    {
     "name": "stdout",
     "output_type": "stream",
     "text": [
      "<class 'pandas.core.frame.DataFrame'>\n",
      "Index: 80328 entries, 0 to 80327\n",
      "Data columns (total 12 columns):\n",
      " #   Column                                Non-Null Count  Dtype         \n",
      "---  ------                                --------------  -----         \n",
      " 0   Date_time                             80328 non-null  datetime64[ns]\n",
      " 1   Year                                  80328 non-null  int64         \n",
      " 2   Month                                 80328 non-null  int64         \n",
      " 3   Hour                                  80328 non-null  int64         \n",
      " 4   Season                                80328 non-null  object        \n",
      " 5   Country                               80069 non-null  object        \n",
      " 6   Region                                79762 non-null  object        \n",
      " 7   Locale                                79871 non-null  object        \n",
      " 8   Latitude                              80328 non-null  float64       \n",
      " 9   Longitude                             80328 non-null  float64       \n",
      " 10  UFO_shape                             78398 non-null  object        \n",
      " 11  Estimated_Encounter_Duration_Minutes  80328 non-null  float64       \n",
      "dtypes: datetime64[ns](1), float64(3), int64(3), object(5)\n",
      "memory usage: 8.0+ MB\n"
     ]
    }
   ],
   "source": [
    "ufo_df.info()"
   ]
  },
  {
   "cell_type": "code",
   "execution_count": 21,
   "id": "988dd32b-615b-435b-b378-5ddf31308f6b",
   "metadata": {},
   "outputs": [],
   "source": [
    "ufo_df = ufo_df.dropna(subset=['Region', 'Locale', 'UFO_shape'])"
   ]
  },
  {
   "cell_type": "code",
   "execution_count": 22,
   "id": "436927be-0433-4ea5-a293-28a8422ffc3f",
   "metadata": {},
   "outputs": [
    {
     "data": {
      "text/html": [
       "<div>\n",
       "<style scoped>\n",
       "    .dataframe tbody tr th:only-of-type {\n",
       "        vertical-align: middle;\n",
       "    }\n",
       "\n",
       "    .dataframe tbody tr th {\n",
       "        vertical-align: top;\n",
       "    }\n",
       "\n",
       "    .dataframe thead th {\n",
       "        text-align: right;\n",
       "    }\n",
       "</style>\n",
       "<table border=\"1\" class=\"dataframe\">\n",
       "  <thead>\n",
       "    <tr style=\"text-align: right;\">\n",
       "      <th></th>\n",
       "      <th>Date_time</th>\n",
       "      <th>Year</th>\n",
       "      <th>Month</th>\n",
       "      <th>Hour</th>\n",
       "      <th>Season</th>\n",
       "      <th>Country</th>\n",
       "      <th>Region</th>\n",
       "      <th>Locale</th>\n",
       "      <th>Latitude</th>\n",
       "      <th>Longitude</th>\n",
       "      <th>UFO_shape</th>\n",
       "      <th>Estimated_Encounter_Duration_Minutes</th>\n",
       "    </tr>\n",
       "    <tr>\n",
       "      <th>ID</th>\n",
       "      <th></th>\n",
       "      <th></th>\n",
       "      <th></th>\n",
       "      <th></th>\n",
       "      <th></th>\n",
       "      <th></th>\n",
       "      <th></th>\n",
       "      <th></th>\n",
       "      <th></th>\n",
       "      <th></th>\n",
       "      <th></th>\n",
       "      <th></th>\n",
       "    </tr>\n",
       "  </thead>\n",
       "  <tbody>\n",
       "    <tr>\n",
       "      <th>0</th>\n",
       "      <td>1949-10-10 20:30:00</td>\n",
       "      <td>1949</td>\n",
       "      <td>10</td>\n",
       "      <td>20</td>\n",
       "      <td>Autumn</td>\n",
       "      <td>United States</td>\n",
       "      <td>Texas</td>\n",
       "      <td>San Marcos</td>\n",
       "      <td>29.883056</td>\n",
       "      <td>-97.941111</td>\n",
       "      <td>Cylinder</td>\n",
       "      <td>45.00</td>\n",
       "    </tr>\n",
       "    <tr>\n",
       "      <th>1</th>\n",
       "      <td>1949-10-10 21:00:00</td>\n",
       "      <td>1949</td>\n",
       "      <td>10</td>\n",
       "      <td>21</td>\n",
       "      <td>Autumn</td>\n",
       "      <td>United States</td>\n",
       "      <td>Texas</td>\n",
       "      <td>Bexar County</td>\n",
       "      <td>29.384210</td>\n",
       "      <td>-98.581082</td>\n",
       "      <td>Light</td>\n",
       "      <td>120.00</td>\n",
       "    </tr>\n",
       "    <tr>\n",
       "      <th>2</th>\n",
       "      <td>1955-10-10 17:00:00</td>\n",
       "      <td>1955</td>\n",
       "      <td>10</td>\n",
       "      <td>17</td>\n",
       "      <td>Autumn</td>\n",
       "      <td>United Kingdom</td>\n",
       "      <td>England</td>\n",
       "      <td>Chester</td>\n",
       "      <td>53.200000</td>\n",
       "      <td>-2.916667</td>\n",
       "      <td>Circle</td>\n",
       "      <td>0.33</td>\n",
       "    </tr>\n",
       "    <tr>\n",
       "      <th>3</th>\n",
       "      <td>1956-10-10 21:00:00</td>\n",
       "      <td>1956</td>\n",
       "      <td>10</td>\n",
       "      <td>21</td>\n",
       "      <td>Autumn</td>\n",
       "      <td>United States</td>\n",
       "      <td>Texas</td>\n",
       "      <td>Edna</td>\n",
       "      <td>28.978333</td>\n",
       "      <td>-96.645833</td>\n",
       "      <td>Circle</td>\n",
       "      <td>0.33</td>\n",
       "    </tr>\n",
       "    <tr>\n",
       "      <th>4</th>\n",
       "      <td>1960-10-10 20:00:00</td>\n",
       "      <td>1960</td>\n",
       "      <td>10</td>\n",
       "      <td>20</td>\n",
       "      <td>Autumn</td>\n",
       "      <td>United States</td>\n",
       "      <td>Hawaii</td>\n",
       "      <td>Kaneohe</td>\n",
       "      <td>21.418056</td>\n",
       "      <td>-157.803611</td>\n",
       "      <td>Light</td>\n",
       "      <td>15.00</td>\n",
       "    </tr>\n",
       "  </tbody>\n",
       "</table>\n",
       "</div>"
      ],
      "text/plain": [
       "             Date_time  Year  Month  Hour  Season         Country   Region  \\\n",
       "ID                                                                           \n",
       "0  1949-10-10 20:30:00  1949     10    20  Autumn   United States    Texas   \n",
       "1  1949-10-10 21:00:00  1949     10    21  Autumn   United States    Texas   \n",
       "2  1955-10-10 17:00:00  1955     10    17  Autumn  United Kingdom  England   \n",
       "3  1956-10-10 21:00:00  1956     10    21  Autumn   United States    Texas   \n",
       "4  1960-10-10 20:00:00  1960     10    20  Autumn   United States   Hawaii   \n",
       "\n",
       "          Locale   Latitude   Longitude UFO_shape  \\\n",
       "ID                                                  \n",
       "0     San Marcos  29.883056  -97.941111  Cylinder   \n",
       "1   Bexar County  29.384210  -98.581082     Light   \n",
       "2        Chester  53.200000   -2.916667    Circle   \n",
       "3           Edna  28.978333  -96.645833    Circle   \n",
       "4        Kaneohe  21.418056 -157.803611     Light   \n",
       "\n",
       "    Estimated_Encounter_Duration_Minutes  \n",
       "ID                                        \n",
       "0                                  45.00  \n",
       "1                                 120.00  \n",
       "2                                   0.33  \n",
       "3                                   0.33  \n",
       "4                                  15.00  "
      ]
     },
     "execution_count": 22,
     "metadata": {},
     "output_type": "execute_result"
    }
   ],
   "source": [
    "ufo_df.head()"
   ]
  },
  {
   "cell_type": "code",
   "execution_count": 23,
   "id": "9eedbdc5-9c73-4c48-95fa-2f00dd1302dd",
   "metadata": {},
   "outputs": [
    {
     "name": "stdout",
     "output_type": "stream",
     "text": [
      "<class 'pandas.core.frame.DataFrame'>\n",
      "Index: 77676 entries, 0 to 80327\n",
      "Data columns (total 12 columns):\n",
      " #   Column                                Non-Null Count  Dtype         \n",
      "---  ------                                --------------  -----         \n",
      " 0   Date_time                             77676 non-null  datetime64[ns]\n",
      " 1   Year                                  77676 non-null  int64         \n",
      " 2   Month                                 77676 non-null  int64         \n",
      " 3   Hour                                  77676 non-null  int64         \n",
      " 4   Season                                77676 non-null  object        \n",
      " 5   Country                               77676 non-null  object        \n",
      " 6   Region                                77676 non-null  object        \n",
      " 7   Locale                                77676 non-null  object        \n",
      " 8   Latitude                              77676 non-null  float64       \n",
      " 9   Longitude                             77676 non-null  float64       \n",
      " 10  UFO_shape                             77676 non-null  object        \n",
      " 11  Estimated_Encounter_Duration_Minutes  77676 non-null  float64       \n",
      "dtypes: datetime64[ns](1), float64(3), int64(3), object(5)\n",
      "memory usage: 7.7+ MB\n"
     ]
    }
   ],
   "source": [
    "ufo_df.info()"
   ]
  },
  {
   "cell_type": "code",
   "execution_count": 24,
   "id": "df2816fb-c1b9-455d-89f1-d0b6d7e0c5f1",
   "metadata": {},
   "outputs": [],
   "source": [
    "engine = create_engine(\"sqlite:///UFO_data.sqlite\")\n",
    "\n",
    "conn = engine.connect()\n"
   ]
  },
  {
   "cell_type": "code",
   "execution_count": 25,
   "id": "b9fa67f4-c2e5-4afc-8db7-6e2f37cabec7",
   "metadata": {},
   "outputs": [
    {
     "data": {
      "text/plain": [
       "77676"
      ]
     },
     "execution_count": 25,
     "metadata": {},
     "output_type": "execute_result"
    }
   ],
   "source": [
    "ufo_df.to_sql(name = \"UFO_data\", con=conn, index = False, if_exists = \"append\")"
   ]
  },
  {
   "cell_type": "code",
   "execution_count": 26,
   "id": "d42abfaf-e8d0-4fbd-a3b5-8a19f5f56961",
   "metadata": {},
   "outputs": [],
   "source": [
    "inspector = inspect(engine)"
   ]
  },
  {
   "cell_type": "code",
   "execution_count": 27,
   "id": "d5f221e2-3e63-4f56-9cd5-5bb812e274bf",
   "metadata": {},
   "outputs": [
    {
     "name": "stdout",
     "output_type": "stream",
     "text": [
      "UFO_data\n",
      "--------\n",
      "Date_time DATETIME\n",
      "Year BIGINT\n",
      "Month BIGINT\n",
      "Hour BIGINT\n",
      "Season TEXT\n",
      "Country TEXT\n",
      "Region TEXT\n",
      "Locale TEXT\n",
      "Latitude FLOAT\n",
      "Longitude FLOAT\n",
      "UFO_shape TEXT\n",
      "Estimated_Encounter_Duration_Minutes FLOAT\n",
      "\n"
     ]
    }
   ],
   "source": [
    "tables = inspector.get_table_names()\n",
    "\n",
    "for table in tables:\n",
    "\tprint(table)\n",
    "\tprint(\"--------\")\n",
    "\tcolumns = inspector.get_columns(table)\n",
    "\tfor column in columns: \n",
    "\t\tprint(column['name'], column['type'])\n",
    "\n",
    "\tprint()"
   ]
  },
  {
   "cell_type": "code",
   "execution_count": 28,
   "id": "b171eb12-5b52-48a5-b23d-fdaf3e77ddc7",
   "metadata": {},
   "outputs": [],
   "source": [
    "engine.dispose()"
   ]
  },
  {
   "cell_type": "code",
   "execution_count": null,
   "id": "7e99f015-73f5-43fd-85c0-92b9b963159b",
   "metadata": {},
   "outputs": [],
   "source": []
  }
 ],
 "metadata": {
  "kernelspec": {
   "display_name": "Python 3 (ipykernel)",
   "language": "python",
   "name": "python3"
  },
  "language_info": {
   "codemirror_mode": {
    "name": "ipython",
    "version": 3
   },
   "file_extension": ".py",
   "mimetype": "text/x-python",
   "name": "python",
   "nbconvert_exporter": "python",
   "pygments_lexer": "ipython3",
   "version": "3.10.15"
  }
 },
 "nbformat": 4,
 "nbformat_minor": 5
}
